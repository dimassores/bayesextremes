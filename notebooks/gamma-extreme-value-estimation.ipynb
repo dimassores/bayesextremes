{
 "cells": [
  {
   "cell_type": "code",
   "execution_count": 1,
   "id": "d1d44dc1",
   "metadata": {},
   "outputs": [],
   "source": [
    "import matplotlib.pyplot as plt\n",
    "import numpy as np\n",
    "import pandas as pd\n",
    "from scipy.stats import gamma, truncnorm, norm, dirichlet"
   ]
  },
  {
   "cell_type": "code",
   "execution_count": 2,
   "id": "51075ec9",
   "metadata": {},
   "outputs": [],
   "source": [
    "import sys\n",
    "# insert at 1, 0 is the script path (or '' in REPL)\n",
    "sys.path.insert(1, '../bayesextremes')\n",
    "\n",
    "from mgpd import MGPD"
   ]
  },
  {
   "cell_type": "code",
   "execution_count": 3,
   "id": "20c6ec54",
   "metadata": {},
   "outputs": [
    {
     "data": {
      "text/plain": [
       "(array([392., 464., 131.,  85., 221., 289., 241., 120.,  42.,  15.]),\n",
       " array([ 0.43765665,  2.43018466,  4.42271266,  6.41524067,  8.40776867,\n",
       "        10.40029668, 12.39282468, 14.38535269, 16.37788069, 18.3704087 ,\n",
       "        20.3629367 ]),\n",
       " <BarContainer object of 10 artists>)"
      ]
     },
     "execution_count": 3,
     "metadata": {},
     "output_type": "execute_result"
    },
    {
     "data": {
      "image/png": "[encoded data removed]",
      "text/plain": [
       "<Figure size 432x288 with 1 Axes>"
      ]
     },
     "metadata": {
      "needs_background": "light"
     },
     "output_type": "display_data"
    }
   ],
   "source": [
    "# simulate data from a known mixture distribution\n",
    "np.random.seed(12345)  # set random seed for reproducibility\n",
    "\n",
    "k = 1\n",
    "ndata = 1000\n",
    "# spread = 5\n",
    "# centers = np.array([-spread, 0, spread])\n",
    "\n",
    "# simulate data from mixture distribution\n",
    "\n",
    "v = np.random.randint(0, k, ndata)\n",
    "data_1 = np.random.gamma(shape = 5, scale = 0.6, size = ndata)\n",
    "data_2 = np.random.gamma(shape = 20, scale = 0.6, size = ndata)\n",
    "\n",
    "data = np.append(data_1, data_2)\n",
    "plt.hist(data)"
   ]
  },
  {
   "cell_type": "code",
   "execution_count": 4,
   "id": "1c80194f",
   "metadata": {},
   "outputs": [],
   "source": [
    "prior_values = {}\n",
    "prior_values['a_prior'] = 1\n",
    "prior_values['b_prior'] = 1\n",
    "prior_values['c_prior'] = 1                                         \n",
    "prior_values['d_prior'] = 1\n",
    "prior_values['mu_u'] = 1\n",
    "prior_values['sigma_u'] = 1\n",
    "\n",
    "mgpd = MGPD(n_iteration = 100, data = data, k=2, prior_values = prior_values)"
   ]
  },
  {
   "cell_type": "code",
   "execution_count": 5,
   "id": "891d1a3b",
   "metadata": {},
   "outputs": [
    {
     "name": "stdout",
     "output_type": "stream",
     "text": [
      "0\n",
      "{'current': -10044.434684329157, 'prop': -47905.72842516954}\n",
      "1\n",
      "{'current': -48501.598361249984, 'prop': -5564.353334111129}\n"
     ]
    },
    {
     "name": "stderr",
     "output_type": "stream",
     "text": [
      "../bayesextremes/mgpd.py:60: RuntimeWarning: divide by zero encountered in log\n",
      "  gm_kernel += np.log(p * gamma.pdf(x = x_i, a = eta, scale = mu/eta)).sum()\n"
     ]
    },
    {
     "name": "stdout",
     "output_type": "stream",
     "text": [
      "2\n",
      "{'current': -45828.46996120966, 'prop': 17632.947149716496}\n",
      "3\n"
     ]
    },
    {
     "name": "stderr",
     "output_type": "stream",
     "text": [
      "../bayesextremes/mgpd.py:66: RuntimeWarning: invalid value encountered in log\n",
      "  log_cumulated_prob = len(data_over_u) * np.log(1 - cumulated_prob)\n",
      "../bayesextremes/mgpd.py:66: RuntimeWarning: divide by zero encountered in log\n",
      "  log_cumulated_prob = len(data_over_u) * np.log(1 - cumulated_prob)\n"
     ]
    },
    {
     "name": "stdout",
     "output_type": "stream",
     "text": [
      "{'current': nan, 'prop': 9269.666890487373}\n",
      "4\n",
      "{'current': 3763.5995733043383, 'prop': -inf}\n",
      "5\n",
      "{'current': 4108.039839682039, 'prop': 2855.3504497988474}\n",
      "6\n",
      "{'current': 4101.447006016121, 'prop': 1014.4511865531895}\n",
      "7\n",
      "{'current': 381.17472590035027, 'prop': 999.4561911455321}\n",
      "8\n",
      "{'current': nan, 'prop': nan}\n",
      "9\n",
      "{'current': nan, 'prop': nan}\n",
      "10\n",
      "{'current': 0.0, 'prop': 0.0}\n",
      "11\n",
      "{'current': 0.0, 'prop': 0.0}\n",
      "12\n",
      "{'current': 0.0, 'prop': 0.0}\n",
      "13\n",
      "{'current': 0.0, 'prop': 0.0}\n",
      "14\n",
      "{'current': 0.0, 'prop': 0.0}\n",
      "15\n",
      "{'current': 0.0, 'prop': nan}\n",
      "16\n",
      "{'current': nan, 'prop': 0.0}\n",
      "17\n",
      "{'current': 0.0, 'prop': nan}\n",
      "18\n",
      "{'current': nan, 'prop': nan}\n",
      "19\n"
     ]
    },
    {
     "name": "stderr",
     "output_type": "stream",
     "text": [
      "../bayesextremes/mgpd.py:63: RuntimeWarning: divide by zero encountered in true_divide\n",
      "  cumulated_prob = (p * gamma.cdf(u, a = eta, scale = mu/eta)).sum()\n",
      "../bayesextremes/mgpd.py:72: RuntimeWarning: divide by zero encountered in log\n",
      "  - 0.5 * np.log(1 + 2*csi)))\n",
      "../bayesextremes/mgpd.py:72: RuntimeWarning: invalid value encountered in double_scalars\n",
      "  - 0.5 * np.log(1 + 2*csi)))\n",
      "../bayesextremes/mgpd.py:63: RuntimeWarning: divide by zero encountered in float_scalars\n",
      "  cumulated_prob = (p * gamma.cdf(u, a = eta, scale = mu/eta)).sum()\n",
      "../bayesextremes/mgpd.py:72: RuntimeWarning: invalid value encountered in multiply\n",
      "  - 0.5 * np.log(1 + 2*csi)))\n",
      "../bayesextremes/mgpd.py:63: RuntimeWarning: divide by zero encountered in double_scalars\n",
      "  cumulated_prob = (p * gamma.cdf(u, a = eta, scale = mu/eta)).sum()\n",
      "../bayesextremes/mgpd.py:217: RuntimeWarning: divide by zero encountered in true_divide\n",
      "  eta_potential = gamma.rvs(a = self.eta_array[s], scale = self.v_eta/(self.eta_array[s])**2)[0]\n"
     ]
    },
    {
     "ename": "ValueError",
     "evalue": "Domain error in arguments.",
     "output_type": "error",
     "traceback": [
      "\u001b[0;31m---------------------------------------------------------------------------\u001b[0m",
      "\u001b[0;31mValueError\u001b[0m                                Traceback (most recent call last)",
      "\u001b[0;32m/tmp/ipykernel_1067/2257053132.py\u001b[0m in \u001b[0;36m<module>\u001b[0;34m\u001b[0m\n\u001b[0;32m----> 1\u001b[0;31m \u001b[0mmgpd\u001b[0m\u001b[0;34m.\u001b[0m\u001b[0mfit\u001b[0m\u001b[0;34m(\u001b[0m\u001b[0;34m)\u001b[0m\u001b[0;34m\u001b[0m\u001b[0;34m\u001b[0m\u001b[0m\n\u001b[0m",
      "\u001b[0;32m/app/bayesextremes/mgpd.py\u001b[0m in \u001b[0;36mfit\u001b[0;34m(self)\u001b[0m\n\u001b[1;32m    327\u001b[0m \u001b[0;34m\u001b[0m\u001b[0m\n\u001b[1;32m    328\u001b[0m             \u001b[0;31m# draw from eta\u001b[0m\u001b[0;34m\u001b[0m\u001b[0;34m\u001b[0m\u001b[0;34m\u001b[0m\u001b[0m\n\u001b[0;32m--> 329\u001b[0;31m             \u001b[0meta_sample\u001b[0m  \u001b[0;34m=\u001b[0m \u001b[0mself\u001b[0m\u001b[0;34m.\u001b[0m\u001b[0mdraw_eta\u001b[0m\u001b[0;34m(\u001b[0m\u001b[0ms\u001b[0m\u001b[0;34m)\u001b[0m\u001b[0;34m\u001b[0m\u001b[0;34m\u001b[0m\u001b[0m\n\u001b[0m\u001b[1;32m    330\u001b[0m             \u001b[0mself\u001b[0m\u001b[0;34m.\u001b[0m\u001b[0meta_array\u001b[0m \u001b[0;34m=\u001b[0m \u001b[0mnp\u001b[0m\u001b[0;34m.\u001b[0m\u001b[0minsert\u001b[0m\u001b[0;34m(\u001b[0m\u001b[0mself\u001b[0m\u001b[0;34m.\u001b[0m\u001b[0meta_array\u001b[0m\u001b[0;34m,\u001b[0m \u001b[0mobj\u001b[0m \u001b[0;34m=\u001b[0m \u001b[0mself\u001b[0m\u001b[0;34m.\u001b[0m\u001b[0meta_array\u001b[0m\u001b[0;34m.\u001b[0m\u001b[0mshape\u001b[0m\u001b[0;34m[\u001b[0m\u001b[0;36m0\u001b[0m\u001b[0;34m]\u001b[0m\u001b[0;34m,\u001b[0m \u001b[0mvalues\u001b[0m \u001b[0;34m=\u001b[0m \u001b[0meta_sample\u001b[0m\u001b[0;34m,\u001b[0m \u001b[0maxis\u001b[0m \u001b[0;34m=\u001b[0m \u001b[0;36m0\u001b[0m\u001b[0;34m)\u001b[0m\u001b[0;34m\u001b[0m\u001b[0;34m\u001b[0m\u001b[0m\n\u001b[1;32m    331\u001b[0m \u001b[0;34m\u001b[0m\u001b[0m\n",
      "\u001b[0;32m/app/bayesextremes/mgpd.py\u001b[0m in \u001b[0;36mdraw_eta\u001b[0;34m(self, s)\u001b[0m\n\u001b[1;32m    215\u001b[0m \u001b[0;34m\u001b[0m\u001b[0m\n\u001b[1;32m    216\u001b[0m         \u001b[0;31m# sample potential\u001b[0m\u001b[0;34m\u001b[0m\u001b[0;34m\u001b[0m\u001b[0;34m\u001b[0m\u001b[0m\n\u001b[0;32m--> 217\u001b[0;31m         \u001b[0meta_potential\u001b[0m \u001b[0;34m=\u001b[0m \u001b[0mgamma\u001b[0m\u001b[0;34m.\u001b[0m\u001b[0mrvs\u001b[0m\u001b[0;34m(\u001b[0m\u001b[0ma\u001b[0m \u001b[0;34m=\u001b[0m \u001b[0mself\u001b[0m\u001b[0;34m.\u001b[0m\u001b[0meta_array\u001b[0m\u001b[0;34m[\u001b[0m\u001b[0ms\u001b[0m\u001b[0;34m]\u001b[0m\u001b[0;34m,\u001b[0m \u001b[0mscale\u001b[0m \u001b[0;34m=\u001b[0m \u001b[0mself\u001b[0m\u001b[0;34m.\u001b[0m\u001b[0mv_eta\u001b[0m\u001b[0;34m/\u001b[0m\u001b[0;34m(\u001b[0m\u001b[0mself\u001b[0m\u001b[0;34m.\u001b[0m\u001b[0meta_array\u001b[0m\u001b[0;34m[\u001b[0m\u001b[0ms\u001b[0m\u001b[0;34m]\u001b[0m\u001b[0;34m)\u001b[0m\u001b[0;34m**\u001b[0m\u001b[0;36m2\u001b[0m\u001b[0;34m)\u001b[0m\u001b[0;34m[\u001b[0m\u001b[0;36m0\u001b[0m\u001b[0;34m]\u001b[0m\u001b[0;34m\u001b[0m\u001b[0;34m\u001b[0m\u001b[0m\n\u001b[0m\u001b[1;32m    218\u001b[0m \u001b[0;34m\u001b[0m\u001b[0m\n\u001b[1;32m    219\u001b[0m         eta_posterior_kernel['current'] = self.log_mpgd_posterior_kernel(self.data, self.p_array[s], self.mu_array[s], self.eta_array[s], self.u_array[s+1], \n",
      "\u001b[0;32m/usr/local/lib/python3.7/site-packages/scipy/stats/_distn_infrastructure.py\u001b[0m in \u001b[0;36mrvs\u001b[0;34m(self, *args, **kwds)\u001b[0m\n\u001b[1;32m   1065\u001b[0m         \u001b[0mcond\u001b[0m \u001b[0;34m=\u001b[0m \u001b[0mlogical_and\u001b[0m\u001b[0;34m(\u001b[0m\u001b[0mself\u001b[0m\u001b[0;34m.\u001b[0m\u001b[0m_argcheck\u001b[0m\u001b[0;34m(\u001b[0m\u001b[0;34m*\u001b[0m\u001b[0margs\u001b[0m\u001b[0;34m)\u001b[0m\u001b[0;34m,\u001b[0m \u001b[0;34m(\u001b[0m\u001b[0mscale\u001b[0m \u001b[0;34m>=\u001b[0m \u001b[0;36m0\u001b[0m\u001b[0;34m)\u001b[0m\u001b[0;34m)\u001b[0m\u001b[0;34m\u001b[0m\u001b[0;34m\u001b[0m\u001b[0m\n\u001b[1;32m   1066\u001b[0m         \u001b[0;32mif\u001b[0m \u001b[0;32mnot\u001b[0m \u001b[0mnp\u001b[0m\u001b[0;34m.\u001b[0m\u001b[0mall\u001b[0m\u001b[0;34m(\u001b[0m\u001b[0mcond\u001b[0m\u001b[0;34m)\u001b[0m\u001b[0;34m:\u001b[0m\u001b[0;34m\u001b[0m\u001b[0;34m\u001b[0m\u001b[0m\n\u001b[0;32m-> 1067\u001b[0;31m             \u001b[0;32mraise\u001b[0m \u001b[0mValueError\u001b[0m\u001b[0;34m(\u001b[0m\u001b[0;34m\"Domain error in arguments.\"\u001b[0m\u001b[0;34m)\u001b[0m\u001b[0;34m\u001b[0m\u001b[0;34m\u001b[0m\u001b[0m\n\u001b[0m\u001b[1;32m   1068\u001b[0m \u001b[0;34m\u001b[0m\u001b[0m\n\u001b[1;32m   1069\u001b[0m         \u001b[0;32mif\u001b[0m \u001b[0mnp\u001b[0m\u001b[0;34m.\u001b[0m\u001b[0mall\u001b[0m\u001b[0;34m(\u001b[0m\u001b[0mscale\u001b[0m \u001b[0;34m==\u001b[0m \u001b[0;36m0\u001b[0m\u001b[0;34m)\u001b[0m\u001b[0;34m:\u001b[0m\u001b[0;34m\u001b[0m\u001b[0;34m\u001b[0m\u001b[0m\n",
      "\u001b[0;31mValueError\u001b[0m: Domain error in arguments."
     ]
    }
   ],
   "source": [
    "mgpd.fit()"
   ]
  },
  {
   "cell_type": "code",
   "execution_count": 6,
   "id": "b01325a6",
   "metadata": {},
   "outputs": [
    {
     "data": {
      "text/plain": [
       "array([[1.0000000e+00, 1.0000000e+00],\n",
       "       [4.9607234e+00, 4.9607234e+00],\n",
       "       [4.9607234e+00, 4.9607234e+00],\n",
       "       [4.9607234e+00, 4.9607234e+00],\n",
       "       [7.3941773e-01, 7.3941773e-01],\n",
       "       [7.3941773e-01, 7.3941773e-01],\n",
       "       [7.3941773e-01, 7.3941773e-01],\n",
       "       [4.8848848e+00, 4.8848848e+00],\n",
       "       [1.3793253e+00, 1.3793253e+00],\n",
       "       [1.8963484e+00, 1.8963484e+00],\n",
       "       [8.4660685e-01, 8.4660685e-01],\n",
       "       [8.1639892e-01, 8.1639892e-01],\n",
       "       [2.0325882e+00, 2.0325882e+00],\n",
       "       [2.0236731e+00, 2.0236731e+00],\n",
       "       [2.5454786e+00, 2.5454786e+00],\n",
       "       [9.6640810e-02, 9.6640810e-02],\n",
       "       [3.7968079e+02, 3.7968079e+02],\n",
       "       [1.3380269e-02, 1.3380269e-02],\n",
       "       [1.7181384e-18, 1.7181384e-18],\n",
       "       [0.0000000e+00, 0.0000000e+00]], dtype=float32)"
      ]
     },
     "execution_count": 6,
     "metadata": {},
     "output_type": "execute_result"
    }
   ],
   "source": [
    "mgpd.get_eta_chain()"
   ]
  },
  {
   "cell_type": "code",
   "execution_count": null,
   "id": "ddc8ac01",
   "metadata": {},
   "outputs": [],
   "source": [
    "gamma.rvs(a = 0.1, scale = 1)"
   ]
  },
  {
   "cell_type": "code",
   "execution_count": null,
   "id": "a67d2a59",
   "metadata": {},
   "outputs": [],
   "source": [
    "x = np.array([1])\n",
    "for i, value in enumerate(list(x)):\n",
    "            if value < 2:\n",
    "                x[i] = value + 0.001"
   ]
  },
  {
   "cell_type": "code",
   "execution_count": null,
   "id": "15a23772",
   "metadata": {},
   "outputs": [],
   "source": []
  },
  {
   "cell_type": "code",
   "execution_count": null,
   "id": "f9af68ef",
   "metadata": {},
   "outputs": [],
   "source": []
  }
 ],
 "metadata": {
  "kernelspec": {
   "display_name": "Python 3 (ipykernel)",
   "language": "python",
   "name": "python3"
  },
  "language_info": {
   "codemirror_mode": {
    "name": "ipython",
    "version": 3
   },
   "file_extension": ".py",
   "mimetype": "text/x-python",
   "name": "python",
   "nbconvert_exporter": "python",
   "pygments_lexer": "ipython3",
   "version": "3.7.5"
  }
 },
 "nbformat": 4,
 "nbformat_minor": 5
}
