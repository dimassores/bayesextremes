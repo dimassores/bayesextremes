{
 "cells": [
  {
   "cell_type": "code",
   "execution_count": 11,
   "id": "d1d44dc1",
   "metadata": {},
   "outputs": [],
   "source": [
    "import matplotlib.pyplot as plt\n",
    "import numpy as np\n",
    "import pandas as pd\n",
    "from scipy.stats import gamma, truncnorm, norm, dirichlet"
   ]
  },
  {
   "cell_type": "code",
   "execution_count": 12,
   "id": "4982cb09",
   "metadata": {},
   "outputs": [
    {
     "data": {
      "text/plain": [
       "array([[0.03248746, 0.96751254]])"
      ]
     },
     "execution_count": 12,
     "metadata": {},
     "output_type": "execute_result"
    }
   ],
   "source": [
    "dirichlet.rvs(np.array([0.3, 0.7]))"
   ]
  },
  {
   "cell_type": "code",
   "execution_count": 34,
   "id": "20c6ec54",
   "metadata": {},
   "outputs": [
    {
     "data": {
      "text/plain": [
       "(array([1.049e+03, 4.980e+02, 2.410e+02, 1.170e+02, 5.300e+01, 2.100e+01,\n",
       "        1.600e+01, 2.000e+00, 1.000e+00, 2.000e+00]),\n",
       " array([3.57540907e-06, 2.48115073e-02, 4.96194392e-02, 7.44273710e-02,\n",
       "        9.92353029e-02, 1.24043235e-01, 1.48851167e-01, 1.73659099e-01,\n",
       "        1.98467030e-01, 2.23274962e-01, 2.48082894e-01]),\n",
       " <BarContainer object of 10 artists>)"
      ]
     },
     "execution_count": 34,
     "metadata": {},
     "output_type": "execute_result"
    },
    {
     "data": {
      "image/png": "[encoded data removed]",
      "text/plain": [
       "<Figure size 432x288 with 1 Axes>"
      ]
     },
     "metadata": {
      "needs_background": "light"
     },
     "output_type": "display_data"
    }
   ],
   "source": [
    "# simulate data from a known mixture distribution\n",
    "np.random.seed(12345)  # set random seed for reproducibility\n",
    "\n",
    "k = 1\n",
    "ndata = 1000\n",
    "# spread = 5\n",
    "# centers = np.array([-spread, 0, spread])\n",
    "\n",
    "# simulate data from mixture distribution\n",
    "\n",
    "v = np.random.randint(0, k, ndata)\n",
    "data_1 = np.random.gamma(shape = 1, scale = 1/30, size = ndata)\n",
    "data_2 = np.random.gamma(shape = 1, scale = 1/30, size = ndata)\n",
    "\n",
    "data = np.append(data_1, data_2)\n",
    "plt.hist(data)"
   ]
  },
  {
   "cell_type": "code",
   "execution_count": 35,
   "id": "dbfb6453",
   "metadata": {},
   "outputs": [],
   "source": [
    "def log_mpgd_posterior_kernel(data, p, mu, eta, u, csi, sigma, a_prior, b_prior, c_prior, d_prior, mu_u, sigma_u):\n",
    "    '''\n",
    "    data: observed values\n",
    "    p: mixture weights\n",
    "    mu: mean vector from gamma mixture\n",
    "    eta: shape vector from gamma mixture\n",
    "    u: threshold value from extreme values represented as the GPD parameter\n",
    "    csi: GPD parameter\n",
    "    sigma: GPD parameter\n",
    "    a_prior: prior parameter vector from IG distribution over mu\n",
    "    b_prior: prior parameter vector from IG distribution over mu\n",
    "    c_prior: prior parameter vector from gamma distribution over eta\n",
    "    d_prior: prior parameter vector from gamma distribution over eta\n",
    "    mu_u: prior mean over u\n",
    "    sigma_u: prior scale over u\n",
    "    '''\n",
    "    data_under_u = data[data < u]\n",
    "    data_over_u = data[data >= u]\n",
    "    \n",
    "    # gamma mixture kernel\n",
    "    gm_kernel = 0\n",
    "    for j in range(len(p)):\n",
    "        gm_kernel += np.log(p[j] * gamma.pdf(x = data_under_u, a = eta[j], scale = eta[j] / mu[j])).sum()\n",
    "        \n",
    "        # cumulated\n",
    "        cumulated_prob = p[j] * gamma.cdf(u, a = eta[j], scale = eta[j] / mu[j])\n",
    "        \n",
    "    # generalized pareto distribution kernel \n",
    "    log_cumulated_prob = len(data_over_u) * np.log(1 - cumulated_prob)\n",
    "    \n",
    "    gpd_kernel = (log_cumulated_prob\n",
    "                - np.sum(np.log(sigma) - ((1 + csi)/csi) * np.log1p(csi * (data_over_u - u)/sigma)\n",
    "                + np.sum((c_prior - 1) * np.log(eta) -  d_prior * eta  - (a_prior + 1) * np.log(mu) - b_prior/mu)\n",
    "                - 0.5*((u - mu_u)/sigma_u)**2 - np.log(sigma) - np.log(1+csi)\n",
    "                - 0.5 * np.log(1 + 2*csi)))\n",
    "                  \n",
    "    return gm_kernel + gpd_kernel"
   ]
  },
  {
   "cell_type": "code",
   "execution_count": 91,
   "id": "e2556f6a",
   "metadata": {},
   "outputs": [],
   "source": [
    "def metropolis_step(prop, current, posterior_kernel, proposed_kernel):\n",
    "    '''\n",
    "    log scaled only for both posterior kernel and proposed kernel\n",
    "    \n",
    "    prop: proposed value\n",
    "    current: current value\n",
    "    posterior_kernel: dict with posterior kernel both under prop and current value\n",
    "    proposed_kernel: dict proposed kernel with both under prop and current value\n",
    "    '''\n",
    "    ratio = (posterior_kernel['prop'] + proposed_kernel['current'])/(posterior_kernel['current'] + proposed_kernel['prop'])\n",
    "    prob = min(1, ratio)\n",
    "    \n",
    "    rand = np.random.random_sample(1)\n",
    "    if rand < prob:\n",
    "        return prop\n",
    "    else:\n",
    "        return current"
   ]
  },
  {
   "cell_type": "code",
   "execution_count": 92,
   "id": "bf818038",
   "metadata": {},
   "outputs": [],
   "source": [
    "def draw_csi(csi, *args):\n",
    "    \n",
    "    inf_limit = -sigma[s]/(M - u[s])\n",
    "    sup_limit = np.inf\n",
    "    csi_posterior_kernel = {}\n",
    "    csi_proposed_kernel = {}\n",
    "\n",
    "    csi_potential = truncnorm.rvs(a = inf_limit, b = sup_limit, loc=csi[s], scale=v_csi, size=1)\n",
    "\n",
    "    csi_posterior_kernel['current'] = log_mpgd_posterior_kernel(data, p[s], mu[s], eta[s], u[s], \n",
    "                                                                csi[s], sigma[s], prior_values['a_prior'], \n",
    "                                                                prior_values['b_prior'], prior_values['c_prior'], \n",
    "                                                                prior_values['d_prior'], prior_values['mu_u'], \n",
    "                                                                prior_values['sigma_u'])\n",
    "\n",
    "    csi_posterior_kernel['prop'] = log_mpgd_posterior_kernel(data, p[s], mu[s], eta[s], u[s], \n",
    "                                                                csi_potential, sigma[s], prior_values['a_prior'], \n",
    "                                                                prior_values['b_prior'], prior_values['c_prior'], \n",
    "                                                                prior_values['d_prior'], prior_values['mu_u'], \n",
    "                                                                prior_values['sigma_u'])\n",
    "\n",
    "    csi_proposed_kernel['current'] = norm.logpdf(x = np.sqrt(v_csi)*(csi[s] + sigma[s])/(M - u[s])) \n",
    "    csi_proposed_kernel['prop'] = norm.logpdf(x = np.sqrt(v_csi)*(csi_potential + sigma[s])/(M - u[s]))\n",
    "\n",
    "    csi_metropolis_output = metropolis_step(csi_potential, csi[s], csi_posterior_kernel, csi_proposed_kernel)\n",
    "    csi = np.insert(csi, obj = csi.shape[0], values = [csi_metropolis_output], axis = 0)\n",
    "    return csi"
   ]
  },
  {
   "cell_type": "code",
   "execution_count": 109,
   "id": "85610a34",
   "metadata": {},
   "outputs": [],
   "source": [
    "def fit(n_iteration, data, k, prior_values):\n",
    "                \n",
    "    #set initial values\n",
    "    p = np.array([[(1/k)]*k], dtype = np.float32)\n",
    "    mu = np.array([[0]*k], dtype = np.float32)\n",
    "    eta = np.array([[0]*k], dtype = np.float32)\n",
    "    u = np.array([[1]], dtype = np.float32)\n",
    "    csi = np.array([[1]], dtype = np.float32)\n",
    "    sigma = np.array([[1]], dtype = np.float32)\n",
    "    \n",
    "    # latent values\n",
    "    M = max(data)\n",
    "    v_csi = 1\n",
    "    \n",
    "    for s in range(n_iteration):\n",
    "        #TODO: define a different confunction for each parameter\n",
    "        # draw from csi\n",
    "        inf_limit = -sigma[s]/(M - u[s])\n",
    "        sup_limit = np.inf\n",
    "        csi_posterior_kernel = {}\n",
    "        csi_proposed_kernel = {}\n",
    "        print(csi)\n",
    "        csi_potential = truncnorm.rvs(a = inf_limit, b = sup_limit, loc=csi[s], scale=v_csi, size=1)\n",
    "        print(csi_potential)\n",
    "        csi_posterior_kernel['current'] = log_mpgd_posterior_kernel(data, p[s], mu[s], eta[s], u[s], \n",
    "                                                                    csi[s], sigma[s], prior_values['a_prior'], \n",
    "                                                                    prior_values['b_prior'], prior_values['c_prior'], \n",
    "                                                                    prior_values['d_prior'], prior_values['mu_u'], \n",
    "                                                                    prior_values['sigma_u'])\n",
    "        \n",
    "        csi_posterior_kernel['prop'] = log_mpgd_posterior_kernel(data, p[s], mu[s], eta[s], u[s], \n",
    "                                                                    csi_potential, sigma[s], prior_values['a_prior'], \n",
    "                                                                    prior_values['b_prior'], prior_values['c_prior'], \n",
    "                                                                    prior_values['d_prior'], prior_values['mu_u'], \n",
    "                                                                    prior_values['sigma_u'])\n",
    "        \n",
    "        csi_proposed_kernel['current'] = norm.logpdf(x = np.sqrt(v_csi)*(csi[s] + sigma[s])/(M - u[s])) \n",
    "        csi_proposed_kernel['prop'] = norm.logpdf(x = np.sqrt(v_csi)*(csi_potential + sigma[s])/(M - u[s]))\n",
    "        \n",
    "        csi_metropolis_output = metropolis_step(csi_potential, csi[s], csi_posterior_kernel, csi_proposed_kernel)\n",
    "        csi = np.insert(csi, obj = csi.shape[0], values = csi_metropolis_output, axis = 0)\n",
    "        \n",
    "        #draw from sigma\n",
    "        \n",
    "        #draw from u\n",
    "        \n",
    "        #draw from (mu_j, eta_j)\n",
    "        \n",
    "        #draw from p\n",
    "        "
   ]
  },
  {
   "cell_type": "code",
   "execution_count": 110,
   "id": "b10816d3",
   "metadata": {},
   "outputs": [
    {
     "name": "stdout",
     "output_type": "stream",
     "text": [
      "[[1.]]\n",
      "[2.57133538]\n"
     ]
    },
    {
     "name": "stderr",
     "output_type": "stream",
     "text": [
      "/usr/local/lib/python3.7/site-packages/ipykernel_launcher.py:23: RuntimeWarning: invalid value encountered in float_scalars\n",
      "/usr/local/lib/python3.7/site-packages/ipykernel_launcher.py:26: RuntimeWarning: invalid value encountered in float_scalars\n",
      "/usr/local/lib/python3.7/site-packages/ipykernel_launcher.py:35: RuntimeWarning: divide by zero encountered in log\n",
      "/usr/local/lib/python3.7/site-packages/ipykernel_launcher.py:35: RuntimeWarning: invalid value encountered in multiply\n",
      "/usr/local/lib/python3.7/site-packages/ipykernel_launcher.py:35: RuntimeWarning: divide by zero encountered in true_divide\n"
     ]
    },
    {
     "data": {
      "text/plain": [
       "array([[1.       ],\n",
       "       [2.5713353]], dtype=float32)"
      ]
     },
     "execution_count": 110,
     "metadata": {},
     "output_type": "execute_result"
    }
   ],
   "source": [
    "prior_values = {}\n",
    "prior_values['a_prior'] = 1\n",
    "prior_values['b_prior'] = 1\n",
    "prior_values['c_prior'] = 1                                         \n",
    "prior_values['d_prior'] = 1\n",
    "prior_values['mu_u'] = 1\n",
    "prior_values['sigma_u'] = 1\n",
    "\n",
    "\n",
    "fit(10, data, k=2, prior_values = prior_values)"
   ]
  },
  {
   "cell_type": "code",
   "execution_count": null,
   "id": "1c80194f",
   "metadata": {},
   "outputs": [],
   "source": []
  }
 ],
 "metadata": {
  "kernelspec": {
   "display_name": "Python 3 (ipykernel)",
   "language": "python",
   "name": "python3"
  },
  "language_info": {
   "codemirror_mode": {
    "name": "ipython",
    "version": 3
   },
   "file_extension": ".py",
   "mimetype": "text/x-python",
   "name": "python",
   "nbconvert_exporter": "python",
   "pygments_lexer": "ipython3",
   "version": "3.7.5"
  }
 },
 "nbformat": 4,
 "nbformat_minor": 5
}
